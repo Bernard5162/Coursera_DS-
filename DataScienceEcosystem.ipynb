{
 "cells": [
  {
   "cell_type": "markdown",
   "id": "d33901a4",
   "metadata": {},
   "source": [
    "# Data Science Tools and Ecosystem"
   ]
  },
  {
   "cell_type": "markdown",
   "id": "72fc60bf",
   "metadata": {},
   "source": [
    "In this notebook, Data Science Tools and Ecosystem are summarized. "
   ]
  },
  {
   "cell_type": "markdown",
   "id": "39696936",
   "metadata": {},
   "source": [
    "#### Objectives:\n",
    "    1. List of popular lanages used by Data Scientists.\n",
    "    2. List of some commonly used libraries used by Data Scientists.\n",
    "    3. List of some Data Science Tools.\n",
    "    4. An Example of a Mathematical Expression used in Python.\n",
    "    5. A python code that converts minutes to hours. "
   ]
  },
  {
   "cell_type": "markdown",
   "id": "2b87d1a7",
   "metadata": {},
   "source": [
    "Some of the popular languages used by Data Scientists:\n",
    "    \n",
    "    1. SQL\n",
    "    2. Python \n",
    "    3. Julia\n",
    "    \n",
    "    "
   ]
  },
  {
   "cell_type": "markdown",
   "id": "22f97151",
   "metadata": {},
   "source": [
    "Some of the commonly used libraries used by Data Scientists include:\n",
    " \n",
    "    1. Pandas  \n",
    "    2. Seaborn \n",
    "    3. Numpy \n",
    "    4. Matplotlib \n",
    "    5. Scipy"
   ]
  },
  {
   "cell_type": "markdown",
   "id": "ad1e0367",
   "metadata": {},
   "source": [
    " \n",
    "| Data Science Tools|\n",
    "|-------------------|\n",
    "|Jupyter Notebook   |\n",
    "|-------------------|\n",
    "|Spark              |\n",
    "|-------------------|\n",
    "|Hadoop             |\n",
    "|-------------------|"
   ]
  },
  {
   "cell_type": "markdown",
   "id": "9dc7c3fb",
   "metadata": {},
   "source": [
    "### Below are few examples of arithmetic expressions in Python: "
   ]
  },
  {
   "cell_type": "code",
   "execution_count": 1,
   "id": "538dd36b",
   "metadata": {},
   "outputs": [
    {
     "data": {
      "text/plain": [
       "17"
      ]
     },
     "execution_count": 1,
     "metadata": {},
     "output_type": "execute_result"
    }
   ],
   "source": [
    "(3*4)+5\n",
    "# This is a simple arithmetic expression to multiply and then add integers."
   ]
  },
  {
   "cell_type": "code",
   "execution_count": 4,
   "id": "6db9879d",
   "metadata": {},
   "outputs": [
    {
     "data": {
      "text/plain": [
       "3.3333333333333335"
      ]
     },
     "execution_count": 4,
     "metadata": {},
     "output_type": "execute_result"
    }
   ],
   "source": [
    "def mins_to_hr(mins):\n",
    "    result = mins / 60\n",
    "    return result\n",
    "\n",
    "ans = mins_to_hr(200)\n",
    "# This will convert 200 mins to hours by diving by 60 "
   ]
  },
  {
   "cell_type": "markdown",
   "id": "14195b2a",
   "metadata": {},
   "source": [
    "## Author\n",
    "Bernard Appiah"
   ]
  }
 ],
 "metadata": {
  "kernelspec": {
   "display_name": "Python 3 (ipykernel)",
   "language": "python",
   "name": "python3"
  },
  "language_info": {
   "codemirror_mode": {
    "name": "ipython",
    "version": 3
   },
   "file_extension": ".py",
   "mimetype": "text/x-python",
   "name": "python",
   "nbconvert_exporter": "python",
   "pygments_lexer": "ipython3",
   "version": "3.11.4"
  }
 },
 "nbformat": 4,
 "nbformat_minor": 5
}
